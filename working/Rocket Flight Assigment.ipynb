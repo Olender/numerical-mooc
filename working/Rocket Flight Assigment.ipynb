{
 "cells": [
  {
   "cell_type": "code",
   "execution_count": 1,
   "metadata": {},
   "outputs": [],
   "source": [
    "import numpy as np"
   ]
  },
  {
   "cell_type": "markdown",
   "metadata": {},
   "source": [
    "Variables:"
   ]
  },
  {
   "cell_type": "code",
   "execution_count": 2,
   "metadata": {},
   "outputs": [],
   "source": [
    "m_shell=50\n",
    "g=9.81\n",
    "ro=1.091\n",
    "A=np.pi*0.5**2\n",
    "Cd=0.15\n",
    "m_fuel0=100\n",
    "Ve=325\n",
    "dt=0.1"
   ]
  },
  {
   "cell_type": "code",
   "execution_count": 3,
   "metadata": {},
   "outputs": [],
   "source": [
    "def mp_dot(time):\n",
    "    if time<=5:\n",
    "        value=20\n",
    "    else:\n",
    "        value=0\n",
    "    return value"
   ]
  },
  {
   "cell_type": "code",
   "execution_count": 4,
   "metadata": {},
   "outputs": [],
   "source": [
    "def mp(time):\n",
    "    if time<=5:\n",
    "        value=100-20.*time\n",
    "    else:\n",
    "        value=0.\n",
    "    return value"
   ]
  },
  {
   "cell_type": "markdown",
   "metadata": {},
   "source": [
    "Answering remaining fuel question:"
   ]
  },
  {
   "cell_type": "code",
   "execution_count": 5,
   "metadata": {},
   "outputs": [
    {
     "name": "stdout",
     "output_type": "stream",
     "text": [
      "36.0\n"
     ]
    }
   ],
   "source": [
    "q1=mp(3.2)\n",
    "print(q1)"
   ]
  },
  {
   "cell_type": "markdown",
   "metadata": {},
   "source": [
    "Initial values:"
   ]
  },
  {
   "cell_type": "code",
   "execution_count": 6,
   "metadata": {},
   "outputs": [],
   "source": [
    "v0=0\n",
    "h0=0\n",
    "time=0"
   ]
  },
  {
   "cell_type": "markdown",
   "metadata": {},
   "source": [
    "Calculating"
   ]
  },
  {
   "cell_type": "code",
   "execution_count": 7,
   "metadata": {},
   "outputs": [],
   "source": [
    "timesteps=200\n",
    "stop_time=time+dt*timesteps\n",
    "v=np.zeros([timesteps+2])\n",
    "h=np.zeros([timesteps+2])\n",
    "n=0"
   ]
  },
  {
   "cell_type": "code",
   "execution_count": 8,
   "metadata": {},
   "outputs": [],
   "source": [
    "while True:\n",
    "    v[n+1]=v[n]+dt*(-g+mp_dot(time)/(m_shell+mp(time))*Ve-0.5*(ro/(m_shell+mp(time)))*v[n]*abs(v[n])*A*Cd)\n",
    "    h[n+1]=h[n]+dt*v[n]\n",
    "    \n",
    "    time+=dt\n",
    "    n+=1\n",
    "    \n",
    "    if v[n]<=0.: break\n",
    "    "
   ]
  },
  {
   "cell_type": "code",
   "execution_count": 9,
   "metadata": {},
   "outputs": [
    {
     "name": "stdout",
     "output_type": "stream",
     "text": [
      "[  0.           3.35233333   6.76273724  10.23177892  13.75999567\n",
      "  17.34789158  20.99593403  24.70454998  28.47412204  32.30498423\n",
      "  36.19741761  40.15164555  44.16782879  48.24606024  52.38635945\n",
      "  56.58866685  60.85283768  65.17863564  69.5657262   74.0136697\n",
      "  78.52191409  83.08978736  87.7164898   92.40108582  97.14249564\n",
      " 101.93948665 106.79066456 111.69446435 116.649141   121.65276008\n",
      " 126.70318825 131.7980836  136.93488606 142.11080777 147.32282353\n",
      " 152.56766143 157.84179369 163.14142785 168.46249826 173.80065818\n",
      " 179.15127241 184.50941068 189.86984185 195.2270291  200.57512621\n",
      " 205.9079751  211.21910476 216.50173172 221.7487622  226.95279618\n",
      " 232.10613341 237.20078161 228.98811956 221.26755571 213.99379282\n",
      " 207.12695565 200.63179855 194.47704874 188.63485867 183.08034699\n",
      " 177.79121158 172.74740198 167.93084057 163.32518442 158.91562085\n",
      " 154.68869146 150.63213983 146.7347795  142.98637897 139.37756131\n",
      " 135.89971613 132.54492234 129.30588    126.17585019 123.14860171\n",
      " 120.21836374 117.37978379 114.62789005 111.9580579  109.36597977\n",
      " 106.84763814 104.39928129 102.01740137  99.69871469  97.44014379\n",
      "  95.23880133  93.09197534  90.99711592  88.95182306  86.9538356\n",
      "  85.00102109  83.09136657  81.22297011  79.39403304  77.60285285\n",
      "  75.84781666  74.12739519  72.4401372   70.78466444  69.15966684\n",
      "  67.56389824  65.9961723   64.45535878  62.94038006  61.45020794\n",
      "  59.98386065  58.54040007  57.11892913  55.71858941  54.33855889\n",
      "  52.97804985  51.63630692  50.31260524  49.00624872  47.7165685\n",
      "  46.44292135  45.18468833  43.94127344  42.71210236  41.49662129\n",
      "  40.29429584  39.10460997  37.92706506  36.76117892  35.60648494\n",
      "  34.46253129  33.32888008  32.20510667  31.09079893  29.98555658\n",
      "  28.88899057  27.80072246  26.72038386  25.64761586  24.58206853\n",
      "  23.52340042  22.47127807  21.42537557  20.3853741   19.35096156\n",
      "  18.3218321   17.29768579  16.27822821  15.26317013  14.25222713\n",
      "  13.24511926  12.24157076  11.2413097   10.24406769   9.24957959\n",
      "   8.25758321   7.26781902   6.28002989   5.29396081   4.30935861\n",
      "   3.32597173   2.34354991   1.361844     0.38060562  -0.600413\n",
      "   0.           0.           0.           0.           0.\n",
      "   0.           0.           0.           0.           0.\n",
      "   0.           0.           0.           0.           0.\n",
      "   0.           0.           0.           0.           0.\n",
      "   0.           0.           0.           0.           0.\n",
      "   0.           0.           0.           0.           0.\n",
      "   0.           0.           0.           0.           0.\n",
      "   0.           0.           0.           0.           0.\n",
      "   0.           0.        ]\n"
     ]
    }
   ],
   "source": [
    "print(v)"
   ]
  },
  {
   "cell_type": "code",
   "execution_count": 9,
   "metadata": {},
   "outputs": [
    {
     "name": "stdout",
     "output_type": "stream",
     "text": [
      "100\n"
     ]
    }
   ],
   "source": [
    "t_vector="
   ]
  },
  {
   "cell_type": "code",
   "execution_count": null,
   "metadata": {},
   "outputs": [],
   "source": []
  },
  {
   "cell_type": "code",
   "execution_count": null,
   "metadata": {},
   "outputs": [],
   "source": []
  }
 ],
 "metadata": {
  "kernelspec": {
   "display_name": "Python 3",
   "language": "python",
   "name": "python3"
  },
  "language_info": {
   "codemirror_mode": {
    "name": "ipython",
    "version": 3
   },
   "file_extension": ".py",
   "mimetype": "text/x-python",
   "name": "python",
   "nbconvert_exporter": "python",
   "pygments_lexer": "ipython3",
   "version": "3.7.0"
  }
 },
 "nbformat": 4,
 "nbformat_minor": 2
}
